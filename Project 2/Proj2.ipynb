{
 "cells": [
  {
   "cell_type": "code",
   "execution_count": 36,
   "metadata": {},
   "outputs": [],
   "source": [
    "import cv2\n",
    "import numpy as np\n",
    "from math import sin, cos, pi\n",
    "import heapq as hq\n",
    "import time"
   ]
  },
  {
   "cell_type": "code",
   "execution_count": 37,
   "metadata": {},
   "outputs": [],
   "source": [
    "def regularPoly(n,a,b,r):\n",
    "    points = [(a,b+r)]\n",
    "    theta = pi/2\n",
    "    dTheta = 2*pi/n\n",
    "\n",
    "    for i in range(1,n):\n",
    "        theta += dTheta\n",
    "        points.append((a + r*cos(theta), b + r*sin(theta)))\n",
    "    points = np.array(points)\n",
    "    points = np.round(points,0)\n",
    "    points = points.astype(int)\n",
    "    points = points.reshape(-1,1,2)\n",
    "\n",
    "    return points\n",
    "\n",
    "canvas = np.zeros([250,600,3], dtype = 'uint8')\n",
    "\n",
    "color = (255,255,255)\n",
    "bcolor = (100,100,100)\n",
    "\n",
    "cv2.rectangle(canvas,(95,0),(155,105),bcolor,-1)\n",
    "cv2.rectangle(canvas,(95,145),(155,250),bcolor,-1)\n",
    "cv2.rectangle(canvas,(100,0),(150,100),color,-1)\n",
    "cv2.rectangle(canvas,(100,150),(150,250),color,-1)\n",
    "\n",
    "tri_pts = np.array([[460,25],[460,225],[510,125]])\n",
    "tri_pts = tri_pts.reshape((-1,1,2))\n",
    "trib_pts = np.array([[455,4],[455,246],[515,125]])\n",
    "trib_pts = trib_pts.reshape((-1,1,2))\n",
    "cv2.fillPoly(canvas,[trib_pts],(bcolor))\n",
    "cv2.fillPoly(canvas,[tri_pts],(color))\n",
    "\n",
    "hex_pts = regularPoly(6,300,125,75)\n",
    "bloat = regularPoly(6,300,125,81)\n",
    "cv2.fillPoly(canvas,[bloat],bcolor)\n",
    "cv2.fillPoly(canvas,[hex_pts],color)\n",
    "\n",
    "cv2.imshow('SS',canvas)\n",
    "cv2.waitKey(0)\n",
    "cv2.destroyAllWindows()\n",
    "\n",
    "map = canvas.copy()\n",
    "row, col,_ = map.shape\n",
    "obstacle_space = []\n",
    "for j in range(row):\n",
    "    for i in range(col):\n",
    "        if map[j,i].all() > 0:\n",
    "            obstacle_space.append((i,j))\n",
    "if (25,25) in obstacle_space:\n",
    "    print('dd')"
   ]
  },
  {
   "cell_type": "code",
   "execution_count": 38,
   "metadata": {},
   "outputs": [],
   "source": [
    "#Functions to move key/0 in the 3x3 Matrix\n",
    "def move_up(CurrentNode):\n",
    "  i,j = CurrentNode\n",
    "  Cost = 1\n",
    "  if i>0 :\n",
    "    NewNode = (i-1,j)\n",
    "    return NewNode,Cost\n",
    "\n",
    "def move_down(CurrentNode):\n",
    "  \n",
    "  i,j = CurrentNode\n",
    "  Cost = 1\n",
    "  if i<250 :\n",
    "    NewNode = (i+1,j)\n",
    "    return NewNode,Cost\n",
    "\n",
    "def move_left(CurrentNode):\n",
    "  i,j = CurrentNode\n",
    "  Cost = 1\n",
    "  if j>0:\n",
    "    NewNode =  (i,j-1)\n",
    "    return NewNode,Cost\n",
    "\n",
    "def move_right(CurrentNode):\n",
    "  i,j = CurrentNode\n",
    "  Cost = 1\n",
    "  if j<600:\n",
    "    NewNode = (i,j+1)\n",
    "    return NewNode,Cost\n",
    "\n",
    "def move_top_right(CurrentNode):\n",
    "  i,j = CurrentNode\n",
    "  Cost = 1.4\n",
    "  if (i>0 and j<600):\n",
    "    NewNode  = (i-1,j+1)\n",
    "    return NewNode,Cost\n",
    "\n",
    "def move_top_left(CurrentNode):\n",
    "  i,j = CurrentNode \n",
    "  Cost = 1.4\n",
    "  if (i>0 and j>0):\n",
    "    NewNode  = (i-1,j-1)\n",
    "    return NewNode,Cost\n",
    "\n",
    "def move_bottom_right(CurrentNode):\n",
    "  i,j = CurrentNode\n",
    "  Cost = 1.4\n",
    "  if (i<250 and j<600):\n",
    "    NewNode  = (i+1,j+1)\n",
    "    return NewNode,Cost\n",
    "\n",
    "def move_bottom_left(CurrentNode):\n",
    "  i,j = CurrentNode\n",
    "  Cost = 1.4\n",
    "  if (i<250 and j>0):\n",
    "    NewNode  = (i+1,j-1)\n",
    "    return NewNode,Cost\n",
    "\n"
   ]
  },
  {
   "cell_type": "code",
   "execution_count": 39,
   "metadata": {},
   "outputs": [],
   "source": [
    "def generate_path(goal_node,start_node,bk_dict):\n",
    "  '''\n",
    "  Returns List of Parent Nodes\n",
    "  Parameters:\n",
    "  Input:\n",
    "  goal_node = int\n",
    "    posiiton of goal state achieved (last node)\n",
    "  bk_dict = dictionary\n",
    "    dictionary containing all the child-parent node indices\n",
    "  Output:\n",
    "  p = list\n",
    "    Returns list of parent nodes\n",
    "  '''\n",
    "  q=goal_node\n",
    "  p= []\n",
    "  while(q != start_node):\n",
    "    p.append(q)\n",
    "    q = bk_dict[q]\n",
    "  p.append(start_node)\n",
    "  p.reverse()\n",
    "  return p\n"
   ]
  },
  {
   "cell_type": "code",
   "execution_count": 52,
   "metadata": {},
   "outputs": [],
   "source": [
    "\n",
    "def animate_path(path,map_):\n",
    "    map_img = map_.copy()\n",
    "    color = (0,0,255)\n",
    "    out = cv2.VideoWriter('path_animation.avi',cv2.VideoWriter_fourcc(*'MJPG'), 60, (map_img.shape[1],map_img.shape[0]))\n",
    " \n",
    "    for node in range(0,len(path)-1):\n",
    "        f = cv2.line(map_img,path[node],path[node+1],color,1)\n",
    "        f = cv2.flip(f,0)\n",
    "        out.write(f)\n",
    "        cv2.imshow('Final Path',f)\n",
    "        cv2.waitKey(1)\n",
    "    out.release()\n",
    "    cv2.waitKey(0)\n",
    "    cv2.destroyAllWindows() \n",
    "    \n",
    "    print('Video File created')\n",
    "\n",
    "\n",
    "def animate_search(visited_nodes,parent_dict,map_):\n",
    "    map_img = map_.copy()\n",
    "    out = cv2.VideoWriter('search_animation.avi',cv2.VideoWriter_fourcc(*'MJPG'), 60, (map_img.shape[1],map_img.shape[0]))\n",
    "    for node in visited_nodes:\n",
    "        f = cv2.circle(map_img,node,0,(255,0,0),-1)\n",
    "        f = cv2.flip(f,0)\n",
    "        out.write(f)\n",
    "        cv2.imshow('Djikstra Search',f)\n",
    "        cv2.waitKey(1)\n",
    "    out.release()\n",
    "    cv2.waitKey(0)\n",
    "    cv2.destroyAllWindows()\n",
    "    print('Video file created')\n",
    "\n",
    "def animate_djikstra(visited_nodes,path,map_):\n",
    "    color = (255,0,0)\n",
    "    path_color = (0,0,255)\n",
    "    map_img = map_.copy()\n",
    "    #out = cv2.VideoWriter('djikstra_animation.avi',cv2.VideoWriter_fourcc(*'MJPG'), 60, (map_img.shape[1],map_img.shape[0]))\n",
    "    for node in visited_nodes:\n",
    "        f = cv2.circle(map_img,node,0,color,-1)\n",
    "        f = cv2.flip(f,0)\n",
    "        #out.write(f)\n",
    "        cv2.imshow('Djikstra Search',f)\n",
    "        cv2.waitKey(1)\n",
    "    \n",
    "    for node in range(0,len(path)-1):\n",
    "        f = cv2.circle(map_img,path[0],2,(0,255,0),-1)\n",
    "        f = cv2.circle(map_img,path[-1],2,(0,255,0),-1)\n",
    "        f = cv2.line(map_img,path[node],path[node+1],path_color,1)\n",
    "        f = cv2.flip(f,0)\n",
    "        #out.write(f)\n",
    "        cv2.imshow('Djikstra Search',f)\n",
    "        cv2.waitKey(1)\n",
    "\n",
    "    #out.release()\n",
    "    cv2.waitKey(0)\n",
    "    cv2.destroyAllWindows()\n",
    "    print('Video file created')\n",
    "    \n"
   ]
  },
  {
   "cell_type": "code",
   "execution_count": 47,
   "metadata": {},
   "outputs": [],
   "source": [
    "def djikstra(start_node,goal_node):\n",
    "    actionset =[move_up,move_down,move_left,move_right,move_top_left,move_top_right,move_bottom_left,move_bottom_right]\n",
    "    parent = {}\n",
    "    parent[start_node] = None\n",
    "\n",
    "    Q = []\n",
    "    hq.heappush(Q,(0,start_node))\n",
    "    hq.heapify(Q)\n",
    "\n",
    "    visited = []\n",
    "    visited.append(start_node)\n",
    "    closed_list = []\n",
    "\n",
    "    flag = 0\n",
    "\n",
    "    C2C = {}\n",
    "    C2C[start_node] = 0\n",
    "\n",
    "    while (flag!=1):\n",
    "\n",
    "        _,currentNode = hq.heappop(Q)\n",
    "        closed_list.append(currentNode)\n",
    "\n",
    "        if currentNode == goal_node:\n",
    "            path = generate_path(goal_node,start_node,parent)\n",
    "            print('Goal Node reached')\n",
    "            print('Final Cost to Come: ',C2C[goal_node])\n",
    "            #animate_path(path,canvas)\n",
    "            flag = 1\n",
    "            break\n",
    "\n",
    "        for action in actionset:\n",
    "            if action(currentNode) is not None:\n",
    "                new_node, Cost = action(currentNode)\n",
    "                if new_node not in obstacle_space:\n",
    "                    if new_node not in closed_list:\n",
    "                        temp_cost = C2C[currentNode] + Cost\n",
    "                        \n",
    "                        if new_node not in C2C or temp_cost < C2C[new_node]:\n",
    "                            parent[new_node] = currentNode\n",
    "                            C2C[new_node] = temp_cost\n",
    "                            visited.append(new_node)\n",
    "                            hq.heappush(Q,(temp_cost,new_node))\n",
    "    cv2.destroyAllWindows()\n",
    "    return path,closed_list,parent\n",
    "                        "
   ]
  },
  {
   "cell_type": "code",
   "execution_count": 48,
   "metadata": {},
   "outputs": [
    {
     "name": "stdout",
     "output_type": "stream",
     "text": [
      "Entered Start node is:  (1, 1)\n",
      "Entered Goal node is:  (1, 175)\n",
      "Goal Node reached\n",
      "Final Cost to Come:  174\n",
      "\n",
      " Execution Time:  104.78764986991882 s\n",
      "Video file created\n"
     ]
    }
   ],
   "source": [
    "while True:\n",
    "    sn = (input(\"Enter start node (x,y) as 'x y': \").split())\n",
    "    start_node = (int(sn[0]),int(sn[1]))\n",
    "    if (start_node in obstacle_space):\n",
    "        print('\\n Start node is in obstacle space, enter again')\n",
    "        continue\n",
    "    gn = (input(\"Enter goal node (x,y) as 'x y': \").split())\n",
    "    goal_node = (int(gn[0]),int(gn[1]))\n",
    "    if (goal_node in obstacle_space):\n",
    "            print('\\n Goal node is in obstacle space, enter again')\n",
    "            continue\n",
    "    print('Entered Start node is: ', start_node)\n",
    "    print('Entered Goal node is: ', goal_node)\n",
    "    break\n",
    "\n",
    "start_time = time.time()\n",
    "f_path,closedlist,parents = djikstra(start_node,goal_node)\n",
    "#animate_path(f_path,canvas)\n",
    "end_time = time.time()\n",
    "print('\\nExecution Time: ', end_time - start_time, \"s\")\n",
    "animate_djikstra(closedlist,f_path,canvas)"
   ]
  },
  {
   "cell_type": "code",
   "execution_count": 45,
   "metadata": {},
   "outputs": [
    {
     "name": "stdout",
     "output_type": "stream",
     "text": [
      "Video File created\n"
     ]
    }
   ],
   "source": [
    "animate_path(f_path,canvas)"
   ]
  },
  {
   "cell_type": "code",
   "execution_count": 35,
   "metadata": {},
   "outputs": [
    {
     "name": "stdout",
     "output_type": "stream",
     "text": [
      "Video file created\n"
     ]
    }
   ],
   "source": [
    "animate_djikstra(closedlist,f_path,canvas)"
   ]
  },
  {
   "cell_type": "code",
   "execution_count": 49,
   "metadata": {},
   "outputs": [
    {
     "data": {
      "text/plain": [
       "18292"
      ]
     },
     "execution_count": 49,
     "metadata": {},
     "output_type": "execute_result"
    }
   ],
   "source": [
    "len(closedlist)"
   ]
  },
  {
   "cell_type": "code",
   "execution_count": 50,
   "metadata": {},
   "outputs": [
    {
     "data": {
      "text/plain": [
       "175"
      ]
     },
     "execution_count": 50,
     "metadata": {},
     "output_type": "execute_result"
    }
   ],
   "source": [
    "len(f_path)"
   ]
  },
  {
   "cell_type": "code",
   "execution_count": null,
   "metadata": {},
   "outputs": [],
   "source": []
  }
 ],
 "metadata": {
  "kernelspec": {
   "display_name": "Python 3",
   "language": "python",
   "name": "python3"
  },
  "language_info": {
   "codemirror_mode": {
    "name": "ipython",
    "version": 3
   },
   "file_extension": ".py",
   "mimetype": "text/x-python",
   "name": "python",
   "nbconvert_exporter": "python",
   "pygments_lexer": "ipython3",
   "version": "3.10.10"
  },
  "orig_nbformat": 4
 },
 "nbformat": 4,
 "nbformat_minor": 2
}
